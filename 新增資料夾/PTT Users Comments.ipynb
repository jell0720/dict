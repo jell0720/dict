{
 "cells": [
  {
   "cell_type": "code",
   "execution_count": 7,
   "metadata": {
    "collapsed": true
   },
   "outputs": [],
   "source": [
    "import requests\n",
    "from bs4 import BeautifulSoup\n",
    "import re"
   ]
  },
  {
   "cell_type": "code",
   "execution_count": 41,
   "metadata": {
    "collapsed": true
   },
   "outputs": [],
   "source": [
    "user_id = 'rtyujlk'\n",
    "url = 'https://www.google.com.tw/search?q=site:ptt.cc+%22%3E' + user_id + '%3C%22&start=10'\n",
    "r = requests.get(url)\n",
    "soup = BeautifulSoup(r.text,'lxml')"
   ]
  },
  {
   "cell_type": "code",
   "execution_count": 42,
   "metadata": {},
   "outputs": [],
   "source": [
    "topics = [t.text for t in soup.select('h3')]"
   ]
  },
  {
   "cell_type": "code",
   "execution_count": 45,
   "metadata": {},
   "outputs": [],
   "source": [
    "titles = []\n",
    "boards = []\n",
    "for topic in topics:\n",
    "    if re.search('((Re: )?\\[{1}[^\\]]*\\]{1}[^\\-]*)- 看板([A-Za-z]*) - 批踢踢實業坊$', topic):\n",
    "        titles.append(re.search('((Re: )?\\[{1}[^\\]]*\\]{1}[^\\-]*)- 看板([A-Za-z]*) - 批踢踢實業坊$', topic)[1])\n",
    "        boards.append(re.search('((Re: )?\\[{1}[^\\]]*\\]{1}[^\\-]*)- 看板([A-Za-z]*) - 批踢踢實業坊$', topic)[3])"
   ]
  },
  {
   "cell_type": "code",
   "execution_count": 46,
   "metadata": {},
   "outputs": [
    {
     "name": "stdout",
     "output_type": "stream",
     "text": [
      "Re: [心得] momo退貨遭刁難已投訴消保官 MobileComm\n",
      "[問題] 安杜拉魔石的魅力在哪 RealmOfValor\n",
      "[情報] 彰化社頭茶飲全品項第二杯10元 Lifeismoney\n",
      "Re: [疑問] 家人的個性很偏激 PSY\n",
      "[請問] 想捐錢給孩童或教育之用 ask\n"
     ]
    }
   ],
   "source": [
    "for r in range(0, len(titles)):\n",
    "    print(titles[r], boards[r])"
   ]
  }
 ],
 "metadata": {
  "kernelspec": {
   "display_name": "Python 3",
   "language": "python",
   "name": "python3"
  },
  "language_info": {
   "codemirror_mode": {
    "name": "ipython",
    "version": 3
   },
   "file_extension": ".py",
   "mimetype": "text/x-python",
   "name": "python",
   "nbconvert_exporter": "python",
   "pygments_lexer": "ipython3",
   "version": "3.6.3"
  }
 },
 "nbformat": 4,
 "nbformat_minor": 2
}
