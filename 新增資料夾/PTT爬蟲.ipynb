{
 "cells": [
  {
   "cell_type": "code",
   "execution_count": 1,
   "metadata": {
    "collapsed": true
   },
   "outputs": [],
   "source": [
    "import requests\n",
    "import webbrowser\n",
    "from bs4 import BeautifulSoup\n",
    "#import ast\n",
    "#import re\n",
    "import pandas as pd\n",
    "import numpy as np"
   ]
  },
  {
   "cell_type": "code",
   "execution_count": 160,
   "metadata": {},
   "outputs": [],
   "source": [
    "url = 'https://www.ptt.cc/bbs/creditcard/M.1553828664.A.F07.html'\n",
    "r = requests.get(url)\n",
    "#print(r.url)\n",
    "#webbrowser.open(r.url)"
   ]
  },
  {
   "cell_type": "code",
   "execution_count": 161,
   "metadata": {
    "collapsed": true
   },
   "outputs": [],
   "source": [
    "soup = BeautifulSoup(r.text,'lxml')"
   ]
  },
  {
   "cell_type": "code",
   "execution_count": 162,
   "metadata": {
    "collapsed": true
   },
   "outputs": [],
   "source": [
    "tags = [n.text.strip(' ') for n in soup.select('div.push span.push-tag')]"
   ]
  },
  {
   "cell_type": "code",
   "execution_count": 163,
   "metadata": {
    "collapsed": true
   },
   "outputs": [],
   "source": [
    "authors = [n.text.strip(' ') for n in soup.select('div.push span.push-userid')]"
   ]
  },
  {
   "cell_type": "code",
   "execution_count": 164,
   "metadata": {
    "collapsed": true
   },
   "outputs": [],
   "source": [
    "contents = [n.text.strip(': ').strip(' ') for n in soup.select('div.push span.push-content')]"
   ]
  },
  {
   "cell_type": "code",
   "execution_count": 165,
   "metadata": {
    "collapsed": true
   },
   "outputs": [],
   "source": [
    "dts = [n.text.strip('\\n').strip(' ') for n in soup.select('div.push span.push-ipdatetime')]"
   ]
  },
  {
   "cell_type": "code",
   "execution_count": 166,
   "metadata": {},
   "outputs": [],
   "source": [
    "title = soup.select('meta')[6]['content']\n",
    "titles = [title] * len(dts)\n",
    "urls   = [url]   * len(dts)"
   ]
  },
  {
   "cell_type": "code",
   "execution_count": 167,
   "metadata": {},
   "outputs": [
    {
     "data": {
      "text/html": [
       "<div>\n",
       "<style scoped>\n",
       "    .dataframe tbody tr th:only-of-type {\n",
       "        vertical-align: middle;\n",
       "    }\n",
       "\n",
       "    .dataframe tbody tr th {\n",
       "        vertical-align: top;\n",
       "    }\n",
       "\n",
       "    .dataframe thead th {\n",
       "        text-align: right;\n",
       "    }\n",
       "</style>\n",
       "<table border=\"1\" class=\"dataframe\">\n",
       "  <thead>\n",
       "    <tr style=\"text-align: right;\">\n",
       "      <th></th>\n",
       "      <th>作者</th>\n",
       "      <th>日期時間</th>\n",
       "      <th>情緒</th>\n",
       "      <th>輿情內容</th>\n",
       "      <th>主文標題</th>\n",
       "      <th>文章連結</th>\n",
       "    </tr>\n",
       "  </thead>\n",
       "  <tbody>\n",
       "    <tr>\n",
       "      <th>0</th>\n",
       "      <td>laimingtse</td>\n",
       "      <td>03/29 11:06</td>\n",
       "      <td>推</td>\n",
       "      <td>須要年費嗎？</td>\n",
       "      <td>[心得] 北富邦加辦OMIYAGE卡已收到</td>\n",
       "      <td>https://www.ptt.cc/bbs/creditcard/M.1553828664...</td>\n",
       "    </tr>\n",
       "    <tr>\n",
       "      <th>1</th>\n",
       "      <td>b731863888</td>\n",
       "      <td>03/29 11:07</td>\n",
       "      <td>推</td>\n",
       "      <td>當天辦昨天才跳出審核資訊還查不到卡號跟核卡資訊</td>\n",
       "      <td>[心得] 北富邦加辦OMIYAGE卡已收到</td>\n",
       "      <td>https://www.ptt.cc/bbs/creditcard/M.1553828664...</td>\n",
       "    </tr>\n",
       "    <tr>\n",
       "      <th>2</th>\n",
       "      <td>peiningyu</td>\n",
       "      <td>03/29 11:11</td>\n",
       "      <td>推</td>\n",
       "      <td>等寄來 你的好快</td>\n",
       "      <td>[心得] 北富邦加辦OMIYAGE卡已收到</td>\n",
       "      <td>https://www.ptt.cc/bbs/creditcard/M.1553828664...</td>\n",
       "    </tr>\n",
       "    <tr>\n",
       "      <th>3</th>\n",
       "      <td>william7713</td>\n",
       "      <td>03/29 11:11</td>\n",
       "      <td>→</td>\n",
       "      <td>我也在等寄來 下周出國感覺來不及了...</td>\n",
       "      <td>[心得] 北富邦加辦OMIYAGE卡已收到</td>\n",
       "      <td>https://www.ptt.cc/bbs/creditcard/M.1553828664...</td>\n",
       "    </tr>\n",
       "    <tr>\n",
       "      <th>4</th>\n",
       "      <td>mowoco</td>\n",
       "      <td>03/29 11:11</td>\n",
       "      <td>推</td>\n",
       "      <td>也太快！</td>\n",
       "      <td>[心得] 北富邦加辦OMIYAGE卡已收到</td>\n",
       "      <td>https://www.ptt.cc/bbs/creditcard/M.1553828664...</td>\n",
       "    </tr>\n",
       "    <tr>\n",
       "      <th>5</th>\n",
       "      <td>koharapei</td>\n",
       "      <td>03/29 11:23</td>\n",
       "      <td>推</td>\n",
       "      <td>對我而言line point等同現金，那跟上海一樣都是3%，這</td>\n",
       "      <td>[心得] 北富邦加辦OMIYAGE卡已收到</td>\n",
       "      <td>https://www.ptt.cc/bbs/creditcard/M.1553828664...</td>\n",
       "    </tr>\n",
       "    <tr>\n",
       "      <th>6</th>\n",
       "      <td>koharapei</td>\n",
       "      <td>03/29 11:23</td>\n",
       "      <td>→</td>\n",
       "      <td>張又是jcb，應該小贏一些些吧？可能只差在jcb刷卡店家</td>\n",
       "      <td>[心得] 北富邦加辦OMIYAGE卡已收到</td>\n",
       "      <td>https://www.ptt.cc/bbs/creditcard/M.1553828664...</td>\n",
       "    </tr>\n",
       "    <tr>\n",
       "      <th>7</th>\n",
       "      <td>koharapei</td>\n",
       "      <td>03/29 11:23</td>\n",
       "      <td>→</td>\n",
       "      <td>少？</td>\n",
       "      <td>[心得] 北富邦加辦OMIYAGE卡已收到</td>\n",
       "      <td>https://www.ptt.cc/bbs/creditcard/M.1553828664...</td>\n",
       "    </tr>\n",
       "    <tr>\n",
       "      <th>8</th>\n",
       "      <td>gyu67</td>\n",
       "      <td>03/29 11:23</td>\n",
       "      <td>推</td>\n",
       "      <td>收到+1</td>\n",
       "      <td>[心得] 北富邦加辦OMIYAGE卡已收到</td>\n",
       "      <td>https://www.ptt.cc/bbs/creditcard/M.1553828664...</td>\n",
       "    </tr>\n",
       "    <tr>\n",
       "      <th>9</th>\n",
       "      <td>Arthur818</td>\n",
       "      <td>03/29 11:31</td>\n",
       "      <td>→</td>\n",
       "      <td>富邦效率最近不錯高</td>\n",
       "      <td>[心得] 北富邦加辦OMIYAGE卡已收到</td>\n",
       "      <td>https://www.ptt.cc/bbs/creditcard/M.1553828664...</td>\n",
       "    </tr>\n",
       "    <tr>\n",
       "      <th>10</th>\n",
       "      <td>lovetsu</td>\n",
       "      <td>03/29 11:39</td>\n",
       "      <td>推</td>\n",
       "      <td>327晚上送已核卡 明天飛 感覺來不及收到了</td>\n",
       "      <td>[心得] 北富邦加辦OMIYAGE卡已收到</td>\n",
       "      <td>https://www.ptt.cc/bbs/creditcard/M.1553828664...</td>\n",
       "    </tr>\n",
       "    <tr>\n",
       "      <th>11</th>\n",
       "      <td>peishien</td>\n",
       "      <td>03/29 11:54</td>\n",
       "      <td>推</td>\n",
       "      <td>很像藥妝店會員卡</td>\n",
       "      <td>[心得] 北富邦加辦OMIYAGE卡已收到</td>\n",
       "      <td>https://www.ptt.cc/bbs/creditcard/M.1553828664...</td>\n",
       "    </tr>\n",
       "  </tbody>\n",
       "</table>\n",
       "</div>"
      ],
      "text/plain": [
       "             作者         日期時間 情緒                             輿情內容  \\\n",
       "0    laimingtse  03/29 11:06  推                           須要年費嗎？   \n",
       "1    b731863888  03/29 11:07  推          當天辦昨天才跳出審核資訊還查不到卡號跟核卡資訊   \n",
       "2     peiningyu  03/29 11:11  推                         等寄來 你的好快   \n",
       "3   william7713  03/29 11:11  →             我也在等寄來 下周出國感覺來不及了...   \n",
       "4        mowoco  03/29 11:11  推                             也太快！   \n",
       "5     koharapei  03/29 11:23  推  對我而言line point等同現金，那跟上海一樣都是3%，這   \n",
       "6     koharapei  03/29 11:23  →     張又是jcb，應該小贏一些些吧？可能只差在jcb刷卡店家   \n",
       "7     koharapei  03/29 11:23  →                               少？   \n",
       "8         gyu67  03/29 11:23  推                             收到+1   \n",
       "9     Arthur818  03/29 11:31  →                        富邦效率最近不錯高   \n",
       "10      lovetsu  03/29 11:39  推           327晚上送已核卡 明天飛 感覺來不及收到了   \n",
       "11     peishien  03/29 11:54  推                         很像藥妝店會員卡   \n",
       "\n",
       "                     主文標題                                               文章連結  \n",
       "0   [心得] 北富邦加辦OMIYAGE卡已收到  https://www.ptt.cc/bbs/creditcard/M.1553828664...  \n",
       "1   [心得] 北富邦加辦OMIYAGE卡已收到  https://www.ptt.cc/bbs/creditcard/M.1553828664...  \n",
       "2   [心得] 北富邦加辦OMIYAGE卡已收到  https://www.ptt.cc/bbs/creditcard/M.1553828664...  \n",
       "3   [心得] 北富邦加辦OMIYAGE卡已收到  https://www.ptt.cc/bbs/creditcard/M.1553828664...  \n",
       "4   [心得] 北富邦加辦OMIYAGE卡已收到  https://www.ptt.cc/bbs/creditcard/M.1553828664...  \n",
       "5   [心得] 北富邦加辦OMIYAGE卡已收到  https://www.ptt.cc/bbs/creditcard/M.1553828664...  \n",
       "6   [心得] 北富邦加辦OMIYAGE卡已收到  https://www.ptt.cc/bbs/creditcard/M.1553828664...  \n",
       "7   [心得] 北富邦加辦OMIYAGE卡已收到  https://www.ptt.cc/bbs/creditcard/M.1553828664...  \n",
       "8   [心得] 北富邦加辦OMIYAGE卡已收到  https://www.ptt.cc/bbs/creditcard/M.1553828664...  \n",
       "9   [心得] 北富邦加辦OMIYAGE卡已收到  https://www.ptt.cc/bbs/creditcard/M.1553828664...  \n",
       "10  [心得] 北富邦加辦OMIYAGE卡已收到  https://www.ptt.cc/bbs/creditcard/M.1553828664...  \n",
       "11  [心得] 北富邦加辦OMIYAGE卡已收到  https://www.ptt.cc/bbs/creditcard/M.1553828664...  "
      ]
     },
     "execution_count": 167,
     "metadata": {},
     "output_type": "execute_result"
    }
   ],
   "source": [
    "#重整資料為DataFrame\n",
    "df = pd.DataFrame(np.column_stack([authors, dts, tags, contents, titles, urls]), \n",
    "                               columns=['作者','日期時間','情緒','輿情內容','主文標題',\n",
    "                                        '文章連結'])\n",
    "df"
   ]
  },
  {
   "cell_type": "code",
   "execution_count": 168,
   "metadata": {
    "collapsed": true
   },
   "outputs": [],
   "source": [
    "from datetime import datetime\n",
    "\n",
    "##PTT推文清整\n",
    "def merge_comments(data):\n",
    "    r=0\n",
    "    while r < len(data)-1:\n",
    "        while r+1 <= len(data)-1:\n",
    "            if data.iloc[r+1,0]==data.iloc[r,0] and (datetime.strptime(data.iloc[r+1,1],'%m/%d %H:%M') - datetime.strptime(data.iloc[r,1],'%m/%d %H:%M')).total_seconds() <= 120 and data.iloc[r+1,2]=='→':\n",
    "                data.iloc[r,3] = data.iloc[r,3]+''.join(data.iloc[r+1,3])\n",
    "                data = data.drop([r+1]).reset_index().iloc[:,1:]\n",
    "            else:\n",
    "                break\n",
    "        while r+2 <= len(data)-1:\n",
    "            if data.iloc[r+2,0]==data.iloc[r,0] and (datetime.strptime(data.iloc[r+2,1],'%m/%d %H:%M') - datetime.strptime(data.iloc[r,1],'%m/%d %H:%M')).total_seconds() <= 120 and data.iloc[r+2,2]=='→':\n",
    "                data.iloc[r,3] = data.iloc[r,3]+''.join(data.iloc[r+2,3])\n",
    "                data = data.drop([r+2]).reset_index().iloc[:,1:]\n",
    "            else:\n",
    "                break\n",
    "        while r+3 <= len(data)-1:\n",
    "            if data.iloc[r+3,0]==data.iloc[r,0] and (datetime.strptime(data.iloc[r+3,1],'%m/%d %H:%M') - datetime.strptime(data.iloc[r,1],'%m/%d %H:%M')).total_seconds() <= 120 and data.iloc[r+3,2]=='→':\n",
    "                data.iloc[r,3] = data.iloc[r,3]+''.join(data.iloc[r+3,3])\n",
    "                data = data.drop([r+3]).reset_index().iloc[:,1:]\n",
    "            else:\n",
    "                break\n",
    "        while r+4 <= len(data)-1:\n",
    "            if data.iloc[r+4,0]==data.iloc[r,0] and (datetime.strptime(data.iloc[r+4,1],'%m/%d %H:%M') - datetime.strptime(data.iloc[r,1],'%m/%d %H:%M')).total_seconds() <= 120 and data.iloc[r+4,2]=='→':\n",
    "                data.iloc[r,3] = data.iloc[r,3]+''.join(data.iloc[r+4,3])\n",
    "                data = data.drop([r+4]).reset_index().iloc[:,1:]\n",
    "            else:\n",
    "                break\n",
    "        while r+5 <= len(data)-1:\n",
    "            if data.iloc[r+5,0]==data.iloc[r,0] and (datetime.strptime(data.iloc[r+5,1],'%m/%d %H:%M') - datetime.strptime(data.iloc[r,1],'%m/%d %H:%M')).total_seconds() <= 120 and data.iloc[r+5,2]=='→':\n",
    "                data.iloc[r,3] = data.iloc[r,3]+''.join(data.iloc[r+5,3])\n",
    "                data = data.drop([r+5]).reset_index().iloc[:,1:]\n",
    "            else:\n",
    "                break\n",
    "        r += 1 \n",
    "    return data"
   ]
  },
  {
   "cell_type": "code",
   "execution_count": 169,
   "metadata": {},
   "outputs": [],
   "source": [
    "df2 = merge_comments(df)"
   ]
  },
  {
   "cell_type": "code",
   "execution_count": 170,
   "metadata": {},
   "outputs": [],
   "source": [
    "df2.to_csv('D:/brown.lai/Documents/Social Listening Project/JCB/ptt.csv')"
   ]
  },
  {
   "cell_type": "code",
   "execution_count": null,
   "metadata": {
    "collapsed": true
   },
   "outputs": [],
   "source": []
  }
 ],
 "metadata": {
  "kernelspec": {
   "display_name": "Python 3",
   "language": "python",
   "name": "python3"
  },
  "language_info": {
   "codemirror_mode": {
    "name": "ipython",
    "version": 3
   },
   "file_extension": ".py",
   "mimetype": "text/x-python",
   "name": "python",
   "nbconvert_exporter": "python",
   "pygments_lexer": "ipython3",
   "version": "3.6.3"
  }
 },
 "nbformat": 4,
 "nbformat_minor": 2
}
