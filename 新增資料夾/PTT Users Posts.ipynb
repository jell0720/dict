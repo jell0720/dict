{
 "cells": [
  {
   "cell_type": "code",
   "execution_count": 1,
   "metadata": {
    "collapsed": true
   },
   "outputs": [],
   "source": [
    "import requests\n",
    "#import webbrowser\n",
    "from bs4 import BeautifulSoup\n",
    "#import pandas as pd\n",
    "#import numpy as np"
   ]
  },
  {
   "cell_type": "code",
   "execution_count": 78,
   "metadata": {
    "collapsed": true
   },
   "outputs": [],
   "source": [
    "kols = []"
   ]
  },
  {
   "cell_type": "code",
   "execution_count": 73,
   "metadata": {
    "collapsed": true
   },
   "outputs": [],
   "source": [
    "def lookup_users_boards(user):\n",
    "    if user not in [k['user_id'] for k in kols]:\n",
    "        print('###首次查詢用戶' + user + '###')\n",
    "        url = 'https://pttweb.tw/user/' + user + '/?page=1'\n",
    "        r = requests.get(url)\n",
    "        soup = BeautifulSoup(r.text,'lxml')\n",
    "        #user看板列表\n",
    "        boards = [t.text for t in soup.select('span.post-boards a')][1:]+[t.text for t in soup.select('span.more-post-boards a')]\n",
    "        #user看板發文數\n",
    "        cnts = [t.next_sibling.strip() for t in soup.select('span.post-boards a')][1:]+[t.next_sibling for t in soup.select('span.more-post-boards a')]\n",
    "        dic = {}\n",
    "        dic['user_id'] = user\n",
    "        for r in range(0,len(boards)):\n",
    "            dic[boards[r]] = int(cnts[r])\n",
    "        kols.append(dic)\n",
    "        print('###完成新增用戶' + user + '###')\n",
    "        \n",
    "    elif user in [k['user_id'] for k in kols]:\n",
    "        print('###用戶' + user + '已存在###')\n",
    "        print('###刪除用戶' + user + '資料###')\n",
    "        idx = [k['user_id'] for k in kols].index(user)\n",
    "        kols.pop(idx)\n",
    "        print('###重新查詢用戶' + user + '###')\n",
    "        url = 'https://pttweb.tw/user/' + user + '/?page=1'\n",
    "        r = requests.get(url)\n",
    "        soup = BeautifulSoup(r.text,'lxml')\n",
    "        #user看板列表\n",
    "        boards = [t.text for t in soup.select('span.post-boards a')][1:]+[t.text for t in soup.select('span.more-post-boards a')]\n",
    "        #user看板發文數\n",
    "        cnts = [t.next_sibling.strip() for t in soup.select('span.post-boards a')][1:]+[t.next_sibling for t in soup.select('span.more-post-boards a')]\n",
    "        dic = {}\n",
    "        dic['user_id'] = user\n",
    "        for r in range(0,len(boards)):\n",
    "            dic[boards[r]] = int(cnts[r])\n",
    "        kols.append(dic)\n",
    "        print('###完成修改用戶' + user + '###')"
   ]
  },
  {
   "cell_type": "code",
   "execution_count": 79,
   "metadata": {},
   "outputs": [
    {
     "name": "stdout",
     "output_type": "stream",
     "text": [
      "###首次查詢用戶kingkingcold###\n",
      "###完成新增用戶kingkingcold###\n"
     ]
    }
   ],
   "source": [
    "lookup_users_boards('kingkingcold')"
   ]
  },
  {
   "cell_type": "code",
   "execution_count": 80,
   "metadata": {},
   "outputs": [
    {
     "data": {
      "text/plain": [
       "[{'boy-girl': 1,\n",
       "  'c_chat': 19,\n",
       "  'chan_mou': 1,\n",
       "  'changhua': 1,\n",
       "  'comehere': 1,\n",
       "  'crossstrait': 1,\n",
       "  'detective': 2,\n",
       "  'drama': 1,\n",
       "  'easeries': 3,\n",
       "  'eebadminton': 4,\n",
       "  'emergency': 2,\n",
       "  'falcom': 10,\n",
       "  'fumoudiscuss': 1,\n",
       "  'gossiping': 233,\n",
       "  'gossippicket': 2,\n",
       "  'gulong': 4,\n",
       "  'hatepolitics': 201,\n",
       "  'hk-drama': 41,\n",
       "  'hk-movie': 19,\n",
       "  'hk_comics': 16,\n",
       "  'japanavgirls': 1,\n",
       "  'japandrama': 52,\n",
       "  'japanmovie': 1,\n",
       "  'jinyong': 30,\n",
       "  'joke': 47,\n",
       "  'kaohsiung': 6,\n",
       "  'kingdomhuang': 6,\n",
       "  'koei': 2,\n",
       "  'l_talkandcha': 10,\n",
       "  'lamigirls': 1,\n",
       "  'liferecallbm': 1,\n",
       "  'marvel': 1,\n",
       "  'media-chaos': 1,\n",
       "  'miaoli': 18,\n",
       "  'movie': 190,\n",
       "  'naruto': 2,\n",
       "  'neihu': 1,\n",
       "  'nswitch': 1,\n",
       "  'ntu': 5,\n",
       "  'ntu-magic': 2,\n",
       "  'ntuima': 1,\n",
       "  'ntutaichi': 1,\n",
       "  'one_piece': 1,\n",
       "  'palmar_drama': 23,\n",
       "  'peopleseries': 1,\n",
       "  'playstation': 41,\n",
       "  'psp-psv': 1,\n",
       "  'publicservan': 2,\n",
       "  'realplaying': 2,\n",
       "  'sangokumusou': 6,\n",
       "  'set': 2,\n",
       "  'southpark': 7,\n",
       "  'starwars': 1,\n",
       "  'stupidclown': 1,\n",
       "  'suckcomic': 2,\n",
       "  'superheroes': 1,\n",
       "  'todaerika': 1,\n",
       "  'tutsau': 27,\n",
       "  'user_id': 'kingkingcold',\n",
       "  'wisdom': 1,\n",
       "  'womentalk': 96,\n",
       "  'xbox': 3}]"
      ]
     },
     "execution_count": 80,
     "metadata": {},
     "output_type": "execute_result"
    }
   ],
   "source": [
    "kols"
   ]
  },
  {
   "cell_type": "code",
   "execution_count": null,
   "metadata": {
    "collapsed": true
   },
   "outputs": [],
   "source": []
  }
 ],
 "metadata": {
  "kernelspec": {
   "display_name": "Python 3",
   "language": "python",
   "name": "python3"
  },
  "language_info": {
   "codemirror_mode": {
    "name": "ipython",
    "version": 3
   },
   "file_extension": ".py",
   "mimetype": "text/x-python",
   "name": "python",
   "nbconvert_exporter": "python",
   "pygments_lexer": "ipython3",
   "version": "3.6.3"
  }
 },
 "nbformat": 4,
 "nbformat_minor": 2
}
